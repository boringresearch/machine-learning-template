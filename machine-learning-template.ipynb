{
  "cells": [
    {
      "cell_type": "markdown",
      "metadata": {
        "id": "view-in-github",
        "colab_type": "text"
      },
      "source": [
        "<a href=\"https://colab.research.google.com/github/boringresearch/machine-learning-template/blob/master/machine-learning-template.ipynb\" target=\"_parent\"><img src=\"https://colab.research.google.com/assets/colab-badge.svg\" alt=\"Open In Colab\"/></a>"
      ]
    },
    {
      "cell_type": "markdown",
      "metadata": {
        "id": "Cr1mEh2z5MjC"
      },
      "source": [
        "ML Project Template"
      ]
    },
    {
      "cell_type": "markdown",
      "metadata": {
        "id": "f3qApVEJ5MjF"
      },
      "source": [
        "# Frame the Problem and Look at the Big Picture"
      ]
    },
    {
      "cell_type": "markdown",
      "metadata": {
        "id": "zOc1obkf5MjF"
      },
      "source": [
        "## Define the objective in business terms."
      ]
    },
    {
      "cell_type": "markdown",
      "metadata": {
        "id": "uvJBQWH65MjG"
      },
      "source": []
    },
    {
      "cell_type": "markdown",
      "metadata": {
        "id": "XZxZTl-w5MjG"
      },
      "source": [
        "## How will your solution be used."
      ]
    },
    {
      "cell_type": "markdown",
      "metadata": {
        "id": "_cHIokK_5MjG"
      },
      "source": []
    },
    {
      "cell_type": "markdown",
      "metadata": {
        "id": "PfSurNOT5MjG"
      },
      "source": [
        "## What are the current solutions/workarounds (if any)?"
      ]
    },
    {
      "cell_type": "markdown",
      "metadata": {
        "id": "CnnsqH905MjG"
      },
      "source": []
    },
    {
      "cell_type": "markdown",
      "metadata": {
        "id": "emxRG8F25MjG"
      },
      "source": [
        "## How should you frame this problem?"
      ]
    },
    {
      "cell_type": "markdown",
      "metadata": {
        "id": "manrNRUq5MjH"
      },
      "source": [
        "* Supervised/unsupervised/semisupervised/reinforcement learning\n",
        "* Online / offline\n"
      ]
    },
    {
      "cell_type": "markdown",
      "metadata": {
        "id": "vhJCF3Hi5MjI"
      },
      "source": [
        "## How should performance be measured?"
      ]
    },
    {
      "cell_type": "markdown",
      "metadata": {
        "id": "8g2WE6mq5MjI"
      },
      "source": []
    },
    {
      "cell_type": "markdown",
      "metadata": {
        "id": "VFeJsE9N5MjI"
      },
      "source": [
        "## Is the performance measure aligned with the business objective?"
      ]
    },
    {
      "cell_type": "markdown",
      "metadata": {
        "id": "zZZvdqI15MjJ"
      },
      "source": []
    },
    {
      "cell_type": "markdown",
      "metadata": {
        "id": "_pS5Sdsl5MjJ"
      },
      "source": [
        "## What would be the minimum performance needed to reach the business objective?"
      ]
    },
    {
      "cell_type": "markdown",
      "metadata": {
        "id": "ZiT2Qx3C5MjJ"
      },
      "source": []
    },
    {
      "cell_type": "markdown",
      "metadata": {
        "id": "fQ5cpS4Q5MjJ"
      },
      "source": [
        "## What are comparable problems? Can you reuse experience or tools?"
      ]
    },
    {
      "cell_type": "markdown",
      "metadata": {
        "id": "ZYSh9RcP5MjJ"
      },
      "source": []
    },
    {
      "cell_type": "markdown",
      "metadata": {
        "id": "OTHA92WW5MjK"
      },
      "source": [
        "## Is human expertise available?"
      ]
    },
    {
      "cell_type": "markdown",
      "metadata": {
        "id": "BSJSb_Ql5MjK"
      },
      "source": []
    },
    {
      "cell_type": "markdown",
      "metadata": {
        "id": "e4H036-a5MjK"
      },
      "source": [
        "## How would you solve the problem manually?"
      ]
    },
    {
      "cell_type": "markdown",
      "metadata": {
        "id": "5HtfXkMM5MjK"
      },
      "source": []
    },
    {
      "cell_type": "markdown",
      "metadata": {
        "id": "F9Xi_4605MjK"
      },
      "source": [
        "## List the assumptions you (or others) have made so far."
      ]
    },
    {
      "cell_type": "markdown",
      "metadata": {
        "id": "ImUKj-ke5MjK"
      },
      "source": []
    },
    {
      "cell_type": "markdown",
      "metadata": {
        "id": "QegSMGK75MjL"
      },
      "source": [
        "## Verify the assumptions if possible."
      ]
    },
    {
      "cell_type": "markdown",
      "metadata": {
        "id": "SmwbNhqe5MjL"
      },
      "source": []
    },
    {
      "cell_type": "markdown",
      "metadata": {
        "id": "d2uXZpQH5MjL"
      },
      "source": [
        "# Get the data"
      ]
    },
    {
      "cell_type": "markdown",
      "metadata": {
        "id": "CV1yo7gT5MjL"
      },
      "source": [
        "Note: Automate as much as possible so you can easily get fresh data."
      ]
    },
    {
      "cell_type": "markdown",
      "metadata": {
        "id": "m8mODhhv5MjL"
      },
      "source": [
        "## List the data you need and how you need"
      ]
    },
    {
      "cell_type": "markdown",
      "metadata": {
        "id": "4P_hVVBd5MjL"
      },
      "source": []
    },
    {
      "cell_type": "markdown",
      "metadata": {
        "id": "DyKwOQvL5MjM"
      },
      "source": [
        "## Find and document where you can get that data"
      ]
    },
    {
      "cell_type": "markdown",
      "metadata": {
        "id": "3lSVJ8t85MjM"
      },
      "source": []
    },
    {
      "cell_type": "markdown",
      "metadata": {
        "id": "GGIt1MZV5MjM"
      },
      "source": [
        "## Check how much space it will take"
      ]
    },
    {
      "cell_type": "markdown",
      "metadata": {
        "id": "jGz-f14s5MjM"
      },
      "source": []
    },
    {
      "cell_type": "markdown",
      "metadata": {
        "id": "GM4a63685MjM"
      },
      "source": [
        "## Check legal obligations, and get authorization if necessary."
      ]
    },
    {
      "cell_type": "markdown",
      "metadata": {
        "id": "TCFkJcc65MjM"
      },
      "source": []
    },
    {
      "cell_type": "markdown",
      "metadata": {
        "id": "k-4dm2Tp5MjN"
      },
      "source": [
        "## Get access authorizations"
      ]
    },
    {
      "cell_type": "markdown",
      "metadata": {
        "id": "aOl9x0YY5MjN"
      },
      "source": []
    },
    {
      "cell_type": "markdown",
      "metadata": {
        "id": "yttvVo6Y5MjN"
      },
      "source": [
        "## Create a workspace (with enought storage space)"
      ]
    },
    {
      "cell_type": "markdown",
      "metadata": {
        "id": "pHToPwBj5MjN"
      },
      "source": []
    },
    {
      "cell_type": "markdown",
      "metadata": {
        "id": "UHDdyNLU5MjN"
      },
      "source": [
        "## Get the data."
      ]
    },
    {
      "cell_type": "markdown",
      "metadata": {
        "id": "OPUTI_Zh5MjO"
      },
      "source": []
    },
    {
      "cell_type": "markdown",
      "metadata": {
        "id": "0RlZslnQ5MjO"
      },
      "source": [
        "## Convert the data to a format you can easily manipulate (without changing the data itself)."
      ]
    },
    {
      "cell_type": "markdown",
      "metadata": {
        "id": "3FBFpoHo5MjO"
      },
      "source": []
    },
    {
      "cell_type": "markdown",
      "metadata": {
        "id": "6TYVYnkm5MjO"
      },
      "source": [
        "## Ensure sensitive information is deleted or protected (i.e. anonymized)."
      ]
    },
    {
      "cell_type": "markdown",
      "metadata": {
        "id": "vwd4if6N5MjO"
      },
      "source": []
    },
    {
      "cell_type": "markdown",
      "metadata": {
        "id": "u1hWcGGt5MjO"
      },
      "source": [
        "## Check the size and type of data (time series, sample, geographical, etc.)"
      ]
    },
    {
      "cell_type": "markdown",
      "metadata": {
        "id": "Y-zZh8od5MjP"
      },
      "source": []
    },
    {
      "cell_type": "markdown",
      "metadata": {
        "id": "KWNWazy75MjP"
      },
      "source": [
        "## Sample a test, put it aside, and never look at it."
      ]
    },
    {
      "cell_type": "markdown",
      "metadata": {
        "id": "D5Tkm9hU5MjP"
      },
      "source": []
    },
    {
      "cell_type": "markdown",
      "metadata": {
        "id": "8sVmWbvr5MjP"
      },
      "source": [
        "# Explore the data"
      ]
    },
    {
      "cell_type": "markdown",
      "metadata": {
        "id": "PDh-Ws4a5MjQ"
      },
      "source": [
        "Note: Try to get insights from a field expert for these steps"
      ]
    },
    {
      "cell_type": "markdown",
      "metadata": {
        "id": "vbBrNBd45MjQ"
      },
      "source": [
        "## Create a copy of the data for exploration (sampling it down to a manageable size if necessary)"
      ]
    },
    {
      "cell_type": "markdown",
      "metadata": {
        "id": "NYtHzxwb5MjQ"
      },
      "source": []
    },
    {
      "cell_type": "markdown",
      "metadata": {
        "id": "HqfIE8GR5MjQ"
      },
      "source": [
        "## Create a Jupyter Notebook to keep a record of your data exploration."
      ]
    },
    {
      "cell_type": "markdown",
      "metadata": {
        "id": "lD_s5YrI5MjQ"
      },
      "source": []
    },
    {
      "cell_type": "markdown",
      "metadata": {
        "id": "Sw80NIb65MjQ"
      },
      "source": [
        "## Study each attribute and its characteristics."
      ]
    },
    {
      "cell_type": "markdown",
      "metadata": {
        "id": "i0Sx38vi5MjR"
      },
      "source": [
        "* Name\n",
        "* Type (categorical, int/float,bounded/unbounded, text, structured, etc.)\n",
        "* % of missing\n",
        "* Noisiness and types of noise (stochastic, outliers, rounding errors, etc.)\n",
        "* Possibly useful for the task?\n",
        "* Type of distribution (Gaussian, uniform, logarithmic, etc.)"
      ]
    },
    {
      "cell_type": "markdown",
      "metadata": {
        "id": "zkjfC6lF5MjR"
      },
      "source": [
        "## For supervised learning, identify the target attributes."
      ]
    },
    {
      "cell_type": "markdown",
      "metadata": {
        "id": "Hvl60Xwt5MjR"
      },
      "source": []
    },
    {
      "cell_type": "markdown",
      "metadata": {
        "id": "5Za58xfy5MjR"
      },
      "source": [
        "## Visualize the data."
      ]
    },
    {
      "cell_type": "markdown",
      "metadata": {
        "id": "JF2fU5el5MjR"
      },
      "source": []
    },
    {
      "cell_type": "markdown",
      "metadata": {
        "id": "oQHfGWEW5MjS"
      },
      "source": [
        "## Study the correlations between attributes."
      ]
    },
    {
      "cell_type": "markdown",
      "metadata": {
        "id": "r87rokm55MjS"
      },
      "source": []
    },
    {
      "cell_type": "markdown",
      "metadata": {
        "id": "hAoshmP95MjS"
      },
      "source": [
        "## Study how you would solve the problem manually."
      ]
    },
    {
      "cell_type": "markdown",
      "metadata": {
        "id": "hMDfKLeP5MjS"
      },
      "source": []
    },
    {
      "cell_type": "markdown",
      "metadata": {
        "id": "EwA-V0ip5MjS"
      },
      "source": [
        "## Identify the promising transformations you may want to apply."
      ]
    },
    {
      "cell_type": "markdown",
      "metadata": {
        "id": "qcPgZuAt5MjS"
      },
      "source": []
    },
    {
      "cell_type": "markdown",
      "metadata": {
        "id": "sCBRBoYr5MjS"
      },
      "source": [
        "## Identify the data that would be useful."
      ]
    },
    {
      "cell_type": "markdown",
      "metadata": {
        "id": "4qYrABi35MjT"
      },
      "source": []
    },
    {
      "cell_type": "markdown",
      "metadata": {
        "id": "dT8C9Hk35MjT"
      },
      "source": [
        "## Document what you have learned."
      ]
    },
    {
      "cell_type": "markdown",
      "metadata": {
        "id": "pU75h13W5MjT"
      },
      "source": []
    },
    {
      "cell_type": "markdown",
      "metadata": {
        "id": "aXC6WMJ55MjT"
      },
      "source": [
        "# Prepare the data"
      ]
    },
    {
      "cell_type": "markdown",
      "metadata": {
        "id": "NSInH9ys5MjT"
      },
      "source": [
        "Notes:\n",
        "* Work on copies of the data (keep the original dataset intact)\n",
        "* Write functions for all data transformations you apply, for five reasons:\n",
        "    * So you can easily prepare the data the next time you get a fresh dataset\n",
        "    * So you can apply these transformations in future projects\n",
        "    * To clean and prepare a test set\n",
        "    * To clean and prepare new instances once your solution is live\n",
        "    * To make it easy to treat your preparation choices as hyperparameters\n",
        "    "
      ]
    },
    {
      "cell_type": "markdown",
      "metadata": {
        "id": "mQ2oYptt5MjT"
      },
      "source": [
        "## Data Cleaning:"
      ]
    },
    {
      "cell_type": "markdown",
      "metadata": {
        "id": "Rm_J_6kt5MjT"
      },
      "source": [
        "* Fix or remove outliers (optional).\n",
        "* Fill in missing values (e.g. with zero, mean, median, ...) or drop their rows/columns."
      ]
    },
    {
      "cell_type": "markdown",
      "metadata": {
        "id": "lAP-YiKb5MjU"
      },
      "source": [
        "## Feature selection (optional):"
      ]
    },
    {
      "cell_type": "markdown",
      "metadata": {
        "id": "Kxsjg_ci5MjU"
      },
      "source": [
        "* Drop the attributes that provide no useful information for the task."
      ]
    },
    {
      "cell_type": "markdown",
      "metadata": {
        "id": "XW5qKgqs5MjU"
      },
      "source": [
        "## Feature engineering, where appropriate"
      ]
    },
    {
      "cell_type": "markdown",
      "metadata": {
        "id": "UJQHeET25MjU"
      },
      "source": [
        "* Discretize continuous features\n",
        "* Decompose features (e.g. categorical, date/time, etc.)\n",
        "* Add promising transformations of features (e.g. log(x), sqrt(x), x^2, etc.)\n",
        "* Aggregate features into promising new features\n"
      ]
    },
    {
      "cell_type": "markdown",
      "metadata": {
        "id": "UUdzD8CG5MjU"
      },
      "source": [
        "## Short-listing Promising Models"
      ]
    },
    {
      "cell_type": "markdown",
      "metadata": {
        "id": "ZR-LzFHC5MjU"
      },
      "source": [
        "Notes:\n",
        "* If the data is huge, you may want to sample smaller training sets so you can train many different models in a reasonable time (be aware that this penalizes complex models such as large neural nets and Random Forests).\n",
        "* Once again, try to automate these steps as much as possible"
      ]
    },
    {
      "cell_type": "markdown",
      "metadata": {
        "id": "QqZif4ts5MjV"
      },
      "source": [
        "1. Train many quick and dirty models from different categories (e.g. linear, naive Bayes, SVM, Random Forests, neural net, etc.) using standard parameters.\n",
        "2. Measure and compare their performance.\n",
        "    * For eah model, use N-fold cross validation and compute mean and standard deviation of the performance measure of the N folds.\n",
        "3. Analyze the most significant variables for each algorithm.\n",
        "4. Analyze the types fo errors the models make.\n",
        "    * What data would a human have used to avoid the errors?\n",
        "5. Have a quick round of feature selection and engineering.\n",
        "6. Have one or two more quick iterations of the five previous steps.\n",
        "7. Short-list the top three to five most promising models, preferring the models that make different types of errors.\n"
      ]
    },
    {
      "cell_type": "markdown",
      "metadata": {
        "id": "4it1qA4A5MjV"
      },
      "source": [
        "## Fine-Tune the system."
      ]
    },
    {
      "cell_type": "markdown",
      "metadata": {
        "id": "qukxMb3H5MjV"
      },
      "source": [
        "Notes:\n",
        "* You will want to use as much data as possible for this step, especially as you move toward the end of fine-tuning.\n",
        "* As always automate what you can."
      ]
    },
    {
      "cell_type": "markdown",
      "metadata": {
        "id": "tJdC5DUQ5MjW"
      },
      "source": [
        "1. Fine-tune the hyperparameters using cross-validation.\n",
        "    * Treat your data transformation choices as hyperparameters, especially when you are not sure about them (e.g. should I replace missing values with zero or with the median value? Or just drop rows?).\n",
        "    * Unless htere are very few hyperparameter values to explores, prefer random search over grid search. If training is very long, you may prefer a Bayesian optimization approach (e.g. using Gaussian process priors: https://arxiv.org/pdf/1206.2944.pdf)\n",
        "2. Try ensemble methods. Combining your best models will often perform better than running them individually.\n",
        "3. Once you are confident about your final model, measure its performance on the tes set to estimate the generalization error."
      ]
    },
    {
      "cell_type": "markdown",
      "metadata": {
        "id": "YAt7dVuK5MjW"
      },
      "source": [
        "!\n",
        "Don't tweak your model after measuring the generalization error: You would just start overfitting the test set."
      ]
    },
    {
      "cell_type": "markdown",
      "metadata": {
        "id": "WWlW_nMy5MjW"
      },
      "source": [
        "# Present your solution"
      ]
    },
    {
      "cell_type": "markdown",
      "metadata": {
        "id": "9V3qz6nb5MjW"
      },
      "source": [
        "## Document what you have done."
      ]
    },
    {
      "cell_type": "markdown",
      "metadata": {
        "id": "3hn3XOfb5MjX"
      },
      "source": [
        "## Create a nice presentation."
      ]
    },
    {
      "cell_type": "markdown",
      "metadata": {
        "id": "bQw_wI475MjX"
      },
      "source": [
        "* Make sure you highlight the big picture first."
      ]
    },
    {
      "cell_type": "markdown",
      "metadata": {
        "id": "Aa2LTT-d5MjX"
      },
      "source": [
        "## Explain why your solution achieves the business objective."
      ]
    },
    {
      "cell_type": "markdown",
      "metadata": {
        "id": "jv6mFwl85MjX"
      },
      "source": [
        "## Don't forget to present interesting points you noticed along the way."
      ]
    },
    {
      "cell_type": "markdown",
      "metadata": {
        "id": "43LpS1Rz5MjX"
      },
      "source": [
        "* Describe what worked and what did not.\n",
        "* List your assumptions and your systems' limitations."
      ]
    },
    {
      "cell_type": "markdown",
      "metadata": {
        "id": "54-hx62p5MjX"
      },
      "source": [
        "## Ensure your key findings are communicated through beautiful visualizations or easy to remember statements (e.g. \"the median income is the number-one predictor of housing prices\")."
      ]
    },
    {
      "cell_type": "markdown",
      "metadata": {
        "id": "CwW_B7jO5MjY"
      },
      "source": [
        "# Launch"
      ]
    },
    {
      "cell_type": "markdown",
      "metadata": {
        "id": "QBW6GNS65MjY"
      },
      "source": [
        "## Get your solution ready for production (plug into production data inputs, write unit tests, etc.)"
      ]
    },
    {
      "cell_type": "markdown",
      "metadata": {
        "id": "MDK8Oe2x5MjY"
      },
      "source": [
        "## Write monitoring code to check your systems' live performance at regular intervals and trigger alerts when it drops."
      ]
    },
    {
      "cell_type": "markdown",
      "metadata": {
        "id": "KOCKvcKZ5MjY"
      },
      "source": [
        "* Beware of slow degradation too: models tend to \"rot\" as data evolves.\n",
        "* Measuring performance may require a human pipeline (e.g. via crowdsourcing service).\n",
        "* Also monitor your inputs' quality (e.g. a malfunctioning sensor sending random values, or another team's output becoming stale). This is particularly important for online learning systems. "
      ]
    },
    {
      "cell_type": "markdown",
      "metadata": {
        "id": "cZAGal1R5MjY"
      },
      "source": [
        "## Retrain your models on a regular basis on fresh data (automate as much as possible)."
      ]
    },
    {
      "cell_type": "markdown",
      "metadata": {
        "id": "KMqllrYz5MjZ"
      },
      "source": []
    },
    {
      "cell_type": "markdown",
      "metadata": {
        "id": "S38GRPvp5MjZ"
      },
      "source": []
    }
  ],
  "metadata": {
    "kernelspec": {
      "display_name": "Python 3",
      "language": "python",
      "name": "python3"
    },
    "language_info": {
      "codemirror_mode": {
        "name": "ipython",
        "version": 3
      },
      "file_extension": ".py",
      "mimetype": "text/x-python",
      "name": "python",
      "nbconvert_exporter": "python",
      "pygments_lexer": "ipython3",
      "version": "3.6.4"
    },
    "toc": {
      "nav_menu": {},
      "number_sections": true,
      "sideBar": true,
      "skip_h1_title": false,
      "title_cell": "Table of Contents",
      "title_sidebar": "Contents",
      "toc_cell": false,
      "toc_position": {},
      "toc_section_display": true,
      "toc_window_display": false
    },
    "colab": {
      "provenance": [],
      "include_colab_link": true
    }
  },
  "nbformat": 4,
  "nbformat_minor": 0
}